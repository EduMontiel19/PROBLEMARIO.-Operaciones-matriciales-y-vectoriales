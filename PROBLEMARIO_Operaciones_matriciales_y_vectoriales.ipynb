{
  "nbformat": 4,
  "nbformat_minor": 0,
  "metadata": {
    "colab": {
      "provenance": [],
      "authorship_tag": "ABX9TyOV2qSmWIGpzZFxyERIJ47v",
      "include_colab_link": true
    },
    "kernelspec": {
      "name": "python3",
      "display_name": "Python 3"
    },
    "language_info": {
      "name": "python"
    }
  },
  "cells": [
    {
      "cell_type": "markdown",
      "metadata": {
        "id": "view-in-github",
        "colab_type": "text"
      },
      "source": [
        "<a href=\"https://colab.research.google.com/github/EduMontiel19/PROBLEMARIO.-Operaciones-matriciales-y-vectoriales/blob/main/PROBLEMARIO_Operaciones_matriciales_y_vectoriales.ipynb\" target=\"_parent\"><img src=\"https://colab.research.google.com/assets/colab-badge.svg\" alt=\"Open In Colab\"/></a>"
      ]
    },
    {
      "cell_type": "markdown",
      "source": [
        "#**PROBLEMARIO. Operaciones matriciales y vectoriales**\n",
        "##Elaborado por: Eduardo Montiel Salazar"
      ],
      "metadata": {
        "id": "rAYkYMz3W4_R"
      }
    },
    {
      "cell_type": "markdown",
      "source": [
        "##Ejercicio 1: Suma de matrices\n",
        "Se realizó la suma de dos matrices del mismo tamaño, combinando cada elemento con su correspondiente. Con esta operación se obtuvo una nueva matriz que conserva la forma de las originales, pero con valores actualizados. Este procedimiento es básico en álgebra lineal para trabajar con datos representados matricialmente."
      ],
      "metadata": {
        "id": "gvDt1L8pY-h5"
      }
    },
    {
      "cell_type": "code",
      "execution_count": 1,
      "metadata": {
        "colab": {
          "base_uri": "https://localhost:8080/"
        },
        "id": "MEHgoA5HW3qJ",
        "outputId": "b25ddf15-ac3e-4416-f6ad-87209f2cf575"
      },
      "outputs": [
        {
          "output_type": "stream",
          "name": "stdout",
          "text": [
            "Resultado de la suma de matrices: \n",
            "[[14 14 14]\n",
            " [ 7  7  7]\n",
            " [ 7  7  7]]\n"
          ]
        }
      ],
      "source": [
        "import numpy as np\n",
        "A=np.array([[2,4,6], [1,3,5], [7,9,11]])\n",
        "B=np.array([[12,10,8], [6,4,2], [0,-2,-4]])\n",
        "\n",
        "C= A+B\n",
        "print(\"Resultado de la suma de matrices: \")\n",
        "print(C)"
      ]
    },
    {
      "cell_type": "markdown",
      "source": [
        "##Ejercicio 2: Multiplicacion de matrices\n",
        "Se efectuó la multiplicación de matrices siguiendo la regla de combinar filas con columnas. El resultado fue una nueva matriz que representa la composición de transformaciones lineales. Esta operación es esencial en muchos cálculos matemáticos y aplicaciones computacionales."
      ],
      "metadata": {
        "id": "HonTjICEZT-p"
      }
    },
    {
      "cell_type": "code",
      "source": [
        "A=np.array([[2,1], [3,4], [5,6]])\n",
        "B=np.array([[7,8], [9,10]])\n",
        "\n",
        "C=A@B\n",
        "print(\"Resultado de la multiplicación de matrices: \")\n",
        "print(C)"
      ],
      "metadata": {
        "colab": {
          "base_uri": "https://localhost:8080/"
        },
        "id": "SyOGnYKrZbFC",
        "outputId": "23c7e17d-3cd4-4d01-d5c2-92af42b93ecd"
      },
      "execution_count": 2,
      "outputs": [
        {
          "output_type": "stream",
          "name": "stdout",
          "text": [
            "Resultado de la multiplicación de matrices: \n",
            "[[ 23  26]\n",
            " [ 57  64]\n",
            " [ 89 100]]\n"
          ]
        }
      ]
    },
    {
      "cell_type": "markdown",
      "source": [
        "##Ejercicio 3: Inversión de matriz\n",
        "Se calcula la matriz inversa, la cual, multiplicada por la original, produce la identidad. La inversa solo existe si la matriz es no singular (determinante distinto de cero) y se usa para despejar incógnitas o revertir transformaciones lineales."
      ],
      "metadata": {
        "id": "kEtbiDVLcwsl"
      }
    },
    {
      "cell_type": "code",
      "source": [
        "from sympy import Matrix\n",
        "A= Matrix([[4,7,2], [2,6,8], [3,1,9]])\n",
        "A_inv= A.inv()\n",
        "print(\"Resultado de la inversa de la matriz: \")\n",
        "print(A_inv)"
      ],
      "metadata": {
        "colab": {
          "base_uri": "https://localhost:8080/"
        },
        "id": "J5vQspQOcuo-",
        "outputId": "9b328b22-2f3f-47ad-bf27-01b965fc23b9"
      },
      "execution_count": 3,
      "outputs": [
        {
          "output_type": "stream",
          "name": "stdout",
          "text": [
            "Resultado de la inversa de la matriz: \n",
            "Matrix([[23/97, -61/194, 22/97], [3/97, 15/97, -14/97], [-8/97, 17/194, 5/97]])\n"
          ]
        }
      ]
    },
    {
      "cell_type": "markdown",
      "source": [
        "##Ejercicio 4: Resolucion de sistemas de ecuaciones\n",
        "Se plantean ecuaciones lineales y se encuentra el conjunto de valores que satisfacen todas a la vez. Dependiendo de la matriz de coeficientes, el sistema puede tener solución única, infinitas soluciones o no tener solución."
      ],
      "metadata": {
        "id": "E21EEMxNd48X"
      }
    },
    {
      "cell_type": "code",
      "source": [
        "from sympy import symbols, Eq, solve\n",
        "x, y, z = symbols('x y z')\n",
        "#Definición de las ecuaciones\n",
        "eq1=Eq(2*x + y + z, 8)\n",
        "eq2=Eq(3*x + 5*y + 2*z, 21)\n",
        "eq3=Eq(x + 2*y + 4*z, 11)\n",
        "sol=solve((eq1, eq2, eq3), (x, y, z))\n",
        "print(\"Solución del sistema de ecuaciones: \")\n",
        "print(sol)"
      ],
      "metadata": {
        "colab": {
          "base_uri": "https://localhost:8080/"
        },
        "id": "sXaKTFfAdMym",
        "outputId": "35cc0df0-2c71-4064-f216-dadf423670e0"
      },
      "execution_count": 4,
      "outputs": [
        {
          "output_type": "stream",
          "name": "stdout",
          "text": [
            "Solución del sistema de ecuaciones: \n",
            "{x: 53/23, y: 56/23, z: 22/23}\n"
          ]
        }
      ]
    },
    {
      "cell_type": "markdown",
      "source": [
        "##Ejercicio 5: Determinante\n",
        "Se calcula el determinante, un número que resume propiedades de la matriz: indica si es invertible, afecta el cambio de volumen que realiza la transformación y aparece en criterios de solución de sistemas y cambios de variable."
      ],
      "metadata": {
        "id": "v27eJB0MeKEi"
      }
    },
    {
      "cell_type": "code",
      "source": [
        "A= Matrix([[3,-2,1], [0,5,4], [2,1,7]])\n",
        "det= A.det()\n",
        "print(\"Determinante de la matriz: \")\n",
        "print(det)"
      ],
      "metadata": {
        "colab": {
          "base_uri": "https://localhost:8080/"
        },
        "id": "F-kBhzLzeFm5",
        "outputId": "cd67ac0c-4c49-4189-ca7e-ce8e491031c5"
      },
      "execution_count": 5,
      "outputs": [
        {
          "output_type": "stream",
          "name": "stdout",
          "text": [
            "Determinante de la matriz: \n",
            "67\n"
          ]
        }
      ]
    },
    {
      "cell_type": "markdown",
      "source": [
        "##Ejercicio 6: Producto cruz\n",
        "Se calcula el producto cruz de dos vectores en el espacio tridimensional. El resultado fue un vector perpendicular a ambos cuya magnitud representa el área del paralelogramo que forman. Este cálculo se utiliza en geometría, física y gráficos computacionales"
      ],
      "metadata": {
        "id": "ZsyY40rNeWKU"
      }
    },
    {
      "cell_type": "code",
      "source": [
        "A=np.array([2,3,-1])\n",
        "B=np.array([1,-2,4])\n",
        "C=np.cross(A,B)\n",
        "print(\"Resultado del producto cruz: \")\n",
        "print(C)"
      ],
      "metadata": {
        "colab": {
          "base_uri": "https://localhost:8080/"
        },
        "id": "AHdIACG6eUUj",
        "outputId": "8aa96338-29f2-4fc4-9452-d4e537ea797c"
      },
      "execution_count": 6,
      "outputs": [
        {
          "output_type": "stream",
          "name": "stdout",
          "text": [
            "Resultado del producto cruz: \n",
            "[10 -9 -7]\n"
          ]
        }
      ]
    },
    {
      "cell_type": "markdown",
      "source": [
        "##Ejercicio 7: Proyeccion ortogonal\n",
        "Se extrae la componente de un vector en la dirección de otro, obteniendo la “sombra” paralela a esa dirección. Sirve para descomponer vectores en componentes paralelas y perpendiculares a una dirección dada."
      ],
      "metadata": {
        "id": "GRADp2LQerk8"
      }
    },
    {
      "cell_type": "code",
      "source": [
        "V=np.array([5,-3,2])\n",
        "U=np.array([2,1,2])\n",
        "proyeccion = np.dot(V, U) / np.dot(U, U) * U\n",
        "print(\"Resultado de la proyección ortogonal: \")\n",
        "print(proyeccion)"
      ],
      "metadata": {
        "colab": {
          "base_uri": "https://localhost:8080/"
        },
        "id": "23fggCGrep95",
        "outputId": "a6ff9f2d-8caf-46fe-9341-44d6736ccdb7"
      },
      "execution_count": 7,
      "outputs": [
        {
          "output_type": "stream",
          "name": "stdout",
          "text": [
            "Resultado de la proyección ortogonal: \n",
            "[2.44444444 1.22222222 2.44444444]\n"
          ]
        }
      ]
    },
    {
      "cell_type": "markdown",
      "source": [
        "##Ejercicio 8: Producto escalar de proyecciones\n",
        "Se calculan las proyecciones de un mismo vector sobre dos direcciones distintas y luego se evalúa su producto escalar. Esto mide cuánto comparten en dirección esas proyecciones y si tienden a apuntar concordantemente o en direcciones opuestas."
      ],
      "metadata": {
        "id": "MS_Ea31qe8Ec"
      }
    },
    {
      "cell_type": "code",
      "source": [
        "V=np.array([3,-1,2])\n",
        "U=np.array([2,2,-1])\n",
        "W=np.array([1,4,-2])\n",
        "proyeccion1 = np.dot(V, U) / np.dot(U, U) * U\n",
        "proyeccion2 = np.dot(V, W) / np.dot(W, W) * W\n",
        "producto_escalar = np.dot(proyeccion1, proyeccion2)\n",
        "print(\"Resultado del producto escalar de proyecciones: \")\n",
        "print(producto_escalar)"
      ],
      "metadata": {
        "colab": {
          "base_uri": "https://localhost:8080/"
        },
        "id": "X2sQvrCwe2Yh",
        "outputId": "8ca8c86d-25c7-457f-dc88-7c076bcfb839"
      },
      "execution_count": 8,
      "outputs": [
        {
          "output_type": "stream",
          "name": "stdout",
          "text": [
            "Resultado del producto escalar de proyecciones: \n",
            "-0.6349206349206349\n"
          ]
        }
      ]
    },
    {
      "cell_type": "markdown",
      "source": [
        "##Ejercicio 9: Ortogonalizacion Gram-Schmidt\n",
        "Se transforma un conjunto de vectores en una base ortogonal mediante el proceso de Gram–Schmidt. El resultado facilita cálculos (por ejemplo, proyecciones) y, si se normaliza, produce una base ortornormal muy útil en análisis numérico y geometría."
      ],
      "metadata": {
        "id": "5z2srRl7feI-"
      }
    },
    {
      "cell_type": "code",
      "source": [
        "def gram_schmidt(vectores):\n",
        "    ortogonales = []\n",
        "    for v in vectores:\n",
        "      for u in ortogonales:\n",
        "        v = v-(np.dot(v,u)/np.dot(u,u))*u\n",
        "      ortogonales.append(v)\n",
        "    return ortogonales\n",
        "v1=np.array([1,1,0], dtype=float)\n",
        "v2=np.array([1,2,1], dtype=float)\n",
        "v3=np.array([2,1,3], dtype=float)\n",
        "resultado=gram_schmidt([v1,v2,v3])\n",
        "print(\"Vectores ortogonales: \")\n",
        "for v in resultado:\n",
        "  print(v)"
      ],
      "metadata": {
        "colab": {
          "base_uri": "https://localhost:8080/"
        },
        "id": "wOVmzGEOfSWM",
        "outputId": "6c9a902b-3d15-4388-f096-88f9c0fb7b79"
      },
      "execution_count": 9,
      "outputs": [
        {
          "output_type": "stream",
          "name": "stdout",
          "text": [
            "Vectores ortogonales: \n",
            "[1. 1. 0.]\n",
            "[-0.5  0.5  1. ]\n",
            "[ 1.33333333 -1.33333333  1.33333333]\n"
          ]
        }
      ]
    },
    {
      "cell_type": "markdown",
      "source": [
        "##Ejercicio 10: Espacio nulo\n",
        "Se determina la base del espacio nulo, es decir, todos los vectores que la matriz envía al vector cero. Conocer el espacio nulo permite describir soluciones homogéneas de sistemas lineales y entender la dependencia lineal entre columnas"
      ],
      "metadata": {
        "id": "qGp3fivgfvJE"
      }
    },
    {
      "cell_type": "code",
      "source": [
        "A=Matrix([[1,2,0,3], [0,1,0,2], [0,0,1,1]])\n",
        "nulo=A.nullspace()\n",
        "print(\"Espacio nulo de la matriz: \")\n",
        "print(nulo)"
      ],
      "metadata": {
        "colab": {
          "base_uri": "https://localhost:8080/"
        },
        "id": "Sni2nL9xftq3",
        "outputId": "aeec0c17-8bc1-4a61-c316-d25785e695cf"
      },
      "execution_count": 10,
      "outputs": [
        {
          "output_type": "stream",
          "name": "stdout",
          "text": [
            "Espacio nulo de la matriz: \n",
            "[Matrix([\n",
            "[ 1],\n",
            "[-2],\n",
            "[-1],\n",
            "[ 1]])]\n"
          ]
        }
      ]
    },
    {
      "cell_type": "code",
      "source": [],
      "metadata": {
        "id": "dN7MydPTf5Cx"
      },
      "execution_count": null,
      "outputs": []
    }
  ]
}